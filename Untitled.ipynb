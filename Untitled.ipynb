{
 "cells": [
  {
   "cell_type": "code",
   "execution_count": 72,
   "id": "00942ea4",
   "metadata": {},
   "outputs": [],
   "source": [
    "import numpy as np"
   ]
  },
  {
   "cell_type": "code",
   "execution_count": 64,
   "id": "9ceceb27",
   "metadata": {},
   "outputs": [],
   "source": [
    "def cube_fft(data_cube):\n",
    "    length = 64\n",
    "    fft_slice = np.zeros((length, length, length), dtype=np.complex64)\n",
    "    for i in range(length):\n",
    "        fft_slice[:,:,i] = np.complex64(np.fft.fftshift(np.fft.fft2(data_cube[:,:,i])))\n",
    "\n",
    "    # fft_slice = np.fft.fftshift(np.fft.fft2(data_cube))\n",
    "    return fft_slice"
   ]
  },
  {
   "cell_type": "code",
   "execution_count": 3,
   "id": "152fb283",
   "metadata": {},
   "outputs": [],
   "source": [
    "import matplotlib.pyplot as plt\n",
    "%matplotlib inline"
   ]
  },
  {
   "cell_type": "code",
   "execution_count": 65,
   "id": "9cd6f22a",
   "metadata": {},
   "outputs": [],
   "source": [
    "box_size = 128 #hinv cMpc\n",
    "cell_size = 2 #hinv cMpc\n",
    "max_rad = box_size/2\n",
    "\n",
    "bandwidth = 8.037 #MHz\n",
    "freq_res = 0.125 #MHz\n",
    "freq_ext = bandwidth/2\n",
    "\n",
    "ang_ext = 73.4778/2 #arcmin\n",
    "ang_res = 1.14809 #arcmin\n",
    "\n",
    "def sphere_idx(shape, radius, position):\n",
    "    \"\"\"Generate an n-dimensional spherical mask.\"\"\"\n",
    "    assert len(position) == len(shape)\n",
    "    n = len(shape)\n",
    "    position = np.array(position).reshape((-1,) + (1,) * n)\n",
    "    arr = np.linalg.norm(np.indices(shape) - position, axis=0)\n",
    "    return arr <= radius\n",
    "\n",
    "\n",
    "def signal(radius, theta_x, theta_y, del_nu, amp_del):\n",
    "    \"\"\"Generates the filter\"\"\"\n",
    "\t\n",
    "    filter_instance = np.zeros((64,64,64))\n",
    "\n",
    "    if (0 < radius <= max_rad) and (-ang_ext < theta_x <= ang_ext) and (-ang_ext < theta_y <= ang_ext) and (-freq_ext < del_nu <= freq_ext) and (amp_del > 0):\n",
    "    # if (0 < radius <= 32) and (0 < theta_x <= 64) and (0 < theta_y <= 64) and (0 < del_nu <= 64) and (amp_del > 0):\n",
    "         \n",
    "        # write functions for converting the natural units to coordinate units\n",
    "\n",
    "        radius = radius/box_size * np.float64(64)\n",
    "        theta_x = theta_x*np.float64(32)/ang_ext + np.float64(32)\n",
    "        theta_y = theta_y*np.float64(32)/ang_ext + np.float64(32)\n",
    "        del_nu = (del_nu/freq_ext + np.float64(1)) * np.float64(32)\n",
    "\n",
    "        filter_instance = sphere_idx((64,64,64), radius, (theta_x,theta_y,del_nu))\n",
    "        filter_instance = np.logical_not(filter_instance).astype(np.int32)\n",
    "    \t\n",
    "    return filter_instance*amp_del"
   ]
  },
  {
   "cell_type": "code",
   "execution_count": 5,
   "id": "7ee4e0c9",
   "metadata": {},
   "outputs": [],
   "source": [
    "# noise = np.load(\"datafiles/noise_cube.npy\")\n",
    "# bubble = np.load(\"datafiles/spherical_bubble.npy\")"
   ]
  },
  {
   "cell_type": "code",
   "execution_count": 22,
   "id": "63474977",
   "metadata": {},
   "outputs": [],
   "source": [
    "test = signal(20, 0, 0, 0, 5e-3)# - signal(19, 0, 0, 0, 5)"
   ]
  },
  {
   "cell_type": "code",
   "execution_count": 46,
   "id": "c3dadb0f",
   "metadata": {},
   "outputs": [
    {
     "data": {
      "image/png": "[encoded data removed]",
      "text/plain": [
       "<Figure size 432x288 with 2 Axes>"
      ]
     },
     "metadata": {
      "needs_background": "light"
     },
     "output_type": "display_data"
    }
   ],
   "source": [
    "# visibility = visibility.real\n",
    "plt.imshow(visibility[:,:,32])\n",
    "plt.colorbar();"
   ]
  },
  {
   "cell_type": "code",
   "execution_count": 45,
   "id": "5d73fe90",
   "metadata": {},
   "outputs": [
    {
     "data": {
      "text/plain": [
       "array([[0.00563221, 0.00563221, 0.00563221, ..., 0.00563221, 0.00563221,\n",
       "        0.00563221],\n",
       "       [0.00563221, 0.00563221, 0.00563221, ..., 0.00563221, 0.00563221,\n",
       "        0.00563221],\n",
       "       [0.00563221, 0.00563221, 0.00563221, ..., 0.00563221, 0.00563221,\n",
       "        0.00563221],\n",
       "       ...,\n",
       "       [0.00563221, 0.00563221, 0.00563221, ..., 0.00563221, 0.00563221,\n",
       "        0.00563221],\n",
       "       [0.00563221, 0.00563221, 0.00563221, ..., 0.00563221, 0.00563221,\n",
       "        0.00563221],\n",
       "       [0.00563221, 0.00563221, 0.00563221, ..., 0.00563221, 0.00563221,\n",
       "        0.00563221]])"
      ]
     },
     "execution_count": 45,
     "metadata": {},
     "output_type": "execute_result"
    }
   ],
   "source": [
    "visibility[:,:,21]"
   ]
  },
  {
   "cell_type": "code",
   "execution_count": 13,
   "id": "e1dddc29",
   "metadata": {},
   "outputs": [],
   "source": [
    "test_fft = cube_fft(test)\n",
    "test_fft = test_fft.imag"
   ]
  },
  {
   "cell_type": "code",
   "execution_count": 14,
   "id": "bb1af481",
   "metadata": {},
   "outputs": [
    {
     "data": {
      "image/png": "[encoded data removed]",
      "text/plain": [
       "<Figure size 432x288 with 2 Axes>"
      ]
     },
     "metadata": {
      "needs_background": "light"
     },
     "output_type": "display_data"
    }
   ],
   "source": [
    "plt.imshow(test_fft[32,:,:])\n",
    "# plt.imshow(test_fft[:,32,:])\n",
    "# plt.imshow(test_fft[:,:,64])\n",
    "plt.colorbar()\n",
    "plt.show()"
   ]
  },
  {
   "cell_type": "code",
   "execution_count": 79,
   "id": "b21bc150",
   "metadata": {},
   "outputs": [
    {
     "name": "stdout",
     "output_type": "stream",
     "text": [
      "0.005632205410235303\n"
     ]
    }
   ],
   "source": [
    "grid_coord = None\n",
    "visibility = np.load(\"datafiles/spherical_bubble.npy\")\n",
    "print(np.max(visibility))\n",
    "visibility = cube_fft(visibility)\n",
    "noise = np.load(\"datafiles/noise_cube.npy\")/100000"
   ]
  },
  {
   "cell_type": "code",
   "execution_count": 82,
   "id": "8ec50263",
   "metadata": {},
   "outputs": [],
   "source": [
    "def log_likelihood(mu, grid_coord=grid_coord, visibility=visibility, noise=noise):\n",
    "    \"\"\"\n",
    "    Calculates the log likelihood as defined in Ghara & Choudhury 2020\n",
    "    \n",
    "    Converts the input mu to an integer \n",
    "    \"\"\"\n",
    "\n",
    "    R, theta_x, theta_y, del_nu, amp_del = mu\n",
    "    sig = signal(R, theta_x, theta_y, del_nu, amp_del)\n",
    "    S_f = cube_fft(sig)\n",
    "\n",
    "    return np.sum((np.power(np.abs(visibility), 2, dtype=np.float64) - \n",
    "                   np.power(np.abs(visibility - S_f), 2, dtype=np.float64) )*\n",
    "                   np.power(noise,-2, dtype=np.float64))"
   ]
  },
  {
   "cell_type": "code",
   "execution_count": 93,
   "id": "f38f7ac9",
   "metadata": {},
   "outputs": [
    {
     "data": {
      "image/png": "[encoded data removed]",
      "text/plain": [
       "<Figure size 432x288 with 1 Axes>"
      ]
     },
     "metadata": {
      "needs_background": "light"
     },
     "output_type": "display_data"
    }
   ],
   "source": [
    "# rad_val = np.linspace(10,30,20, dtype=np.float64)\n",
    "theta_val = np.linspace(-4, 4, 16)\n",
    "# rad_slice = [log_likelihood(mu=(i,0,0,0,0.005632205410235303)) for i in rad_val]\n",
    "theta_slice = [log_likelihood(mu=(20,i,0,0,0.005632205410235303)) for i in theta_val]\n",
    "# plt.ylim(0, 0.0000001)\n",
    "# plt.plot(rad_val, rad_slice)\n",
    "plt.plot(theta_val, theta_slice)\n",
    "plt.grid()"
   ]
  },
  {
   "cell_type": "code",
   "execution_count": 75,
   "id": "d536b2ee",
   "metadata": {},
   "outputs": [
    {
     "data": {
      "text/plain": [
       "<matplotlib.image.AxesImage at 0x7f978106cb50>"
      ]
     },
     "execution_count": 75,
     "metadata": {},
     "output_type": "execute_result"
    },
    {
     "data": {
      "image/png": "[encoded data removed]",
      "text/plain": [
       "<Figure size 432x288 with 1 Axes>"
      ]
     },
     "metadata": {
      "needs_background": "light"
     },
     "output_type": "display_data"
    }
   ],
   "source": [
    "sliced = np.real(log_likelihood(mu=(16,32,32,32,5))[20,:,:])\n",
    "plt.imshow(sliced)"
   ]
  },
  {
   "cell_type": "code",
   "execution_count": null,
   "id": "f78c83d0",
   "metadata": {},
   "outputs": [],
   "source": []
  }
 ],
 "metadata": {
  "kernelspec": {
   "display_name": "Python 3",
   "language": "python",
   "name": "python3"
  },
  "language_info": {
   "codemirror_mode": {
    "name": "ipython",
    "version": 3
   },
   "file_extension": ".py",
   "mimetype": "text/x-python",
   "name": "python",
   "nbconvert_exporter": "python",
   "pygments_lexer": "ipython3",
   "version": "3.8.10"
  }
 },
 "nbformat": 4,
 "nbformat_minor": 5
}
